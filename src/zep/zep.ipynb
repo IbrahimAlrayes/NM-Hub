{
 "cells": [
  {
   "cell_type": "code",
   "execution_count": 1,
   "metadata": {},
   "outputs": [],
   "source": [
    "from zep_python import ZepClient\n",
    "from zep_python import user\n",
    "from pydantic import BaseModel, EmailStr\n",
    "# Replace with Zep API URL and (optionally) API key\n",
    "client = ZepClient( api_url)\n"
   ]
  },
  {
   "cell_type": "code",
   "execution_count": null,
   "metadata": {},
   "outputs": [],
   "source": [
    "class UserRequest(BaseModel):\n",
    "    user_id:str\n",
    "    email:EmailStr\n",
    "    first_name:str\n",
    "    last_name:str\n",
    "    metadata:dict"
   ]
  },
  {
   "cell_type": "code",
   "execution_count": 23,
   "metadata": {},
   "outputs": [],
   "source": [
    "user_request = UserRequest(\n",
    "    user_id='user1223',\n",
    "    email=\"user@example.com\",\n",
    "    first_name=\"Jane\",\n",
    "    last_name=\"Smith\",\n",
    "    metadata={\"foo\": \"bar\"}\n",
    ")\n",
    "new_user = client.user.add(user_request)"
   ]
  },
  {
   "cell_type": "code",
   "execution_count": 2,
   "metadata": {},
   "outputs": [
    {
     "name": "stderr",
     "output_type": "stream",
     "text": [
      "c:\\Users\\ialrayes\\AppData\\Local\\anaconda3\\envs\\SAMA\\lib\\site-packages\\tqdm\\auto.py:21: TqdmWarning: IProgress not found. Please update jupyter and ipywidgets. See https://ipywidgets.readthedocs.io/en/stable/user_install.html\n",
      "  from .autonotebook import tqdm as notebook_tqdm\n"
     ]
    },
    {
     "ename": "ModuleNotFoundError",
     "evalue": "No module named 'configs'",
     "output_type": "error",
     "traceback": [
      "\u001b[1;31m---------------------------------------------------------------------------\u001b[0m",
      "\u001b[1;31mModuleNotFoundError\u001b[0m                       Traceback (most recent call last)",
      "Cell \u001b[1;32mIn[2], line 3\u001b[0m\n\u001b[0;32m      1\u001b[0m \u001b[38;5;28;01mimport\u001b[39;00m \u001b[38;5;21;01mgoogle\u001b[39;00m\u001b[38;5;21;01m.\u001b[39;00m\u001b[38;5;21;01mgenerativeai\u001b[39;00m \u001b[38;5;28;01mas\u001b[39;00m \u001b[38;5;21;01mgenai\u001b[39;00m\n\u001b[0;32m      2\u001b[0m \u001b[38;5;28;01mfrom\u001b[39;00m \u001b[38;5;21;01msrc\u001b[39;00m\u001b[38;5;21;01m.\u001b[39;00m\u001b[38;5;21;01mllm\u001b[39;00m\u001b[38;5;21;01m.\u001b[39;00m\u001b[38;5;21;01mdata\u001b[39;00m \u001b[38;5;28;01mimport\u001b[39;00m Prompt\n\u001b[1;32m----> 3\u001b[0m \u001b[38;5;28;01mfrom\u001b[39;00m \u001b[38;5;21;01msrc\u001b[39;00m\u001b[38;5;21;01m.\u001b[39;00m\u001b[38;5;21;01mllm\u001b[39;00m\u001b[38;5;21;01m.\u001b[39;00m\u001b[38;5;21;01mengine\u001b[39;00m \u001b[38;5;28;01mimport\u001b[39;00m LLM\n\u001b[0;32m      4\u001b[0m \u001b[38;5;28;01mfrom\u001b[39;00m \u001b[38;5;21;01msrc\u001b[39;00m\u001b[38;5;21;01m.\u001b[39;00m\u001b[38;5;21;01mllm\u001b[39;00m\u001b[38;5;21;01m.\u001b[39;00m\u001b[38;5;21;01mconfigs\u001b[39;00m \u001b[38;5;28;01mimport\u001b[39;00m LLM_CONFIGS\n\u001b[0;32m      5\u001b[0m genai\u001b[38;5;241m.\u001b[39mconfigure(api_key\u001b[38;5;241m=\u001b[39mLLM_CONFIGS[\u001b[38;5;124m'\u001b[39m\u001b[38;5;124mGEMINI_API_KEY\u001b[39m\u001b[38;5;124m'\u001b[39m])\n",
      "File \u001b[1;32mc:\\users\\ialrayes\\documents\\workspace\\nm-hub\\src\\llm\\engine.py:3\u001b[0m\n\u001b[0;32m      1\u001b[0m \u001b[38;5;28;01mimport\u001b[39;00m \u001b[38;5;21;01mgoogle\u001b[39;00m\u001b[38;5;21;01m.\u001b[39;00m\u001b[38;5;21;01mgenerativeai\u001b[39;00m \u001b[38;5;28;01mas\u001b[39;00m \u001b[38;5;21;01mgenai\u001b[39;00m\n\u001b[0;32m      2\u001b[0m \u001b[38;5;28;01mfrom\u001b[39;00m \u001b[38;5;21;01msrc\u001b[39;00m\u001b[38;5;21;01m.\u001b[39;00m\u001b[38;5;21;01mllm\u001b[39;00m\u001b[38;5;21;01m.\u001b[39;00m\u001b[38;5;21;01mdata\u001b[39;00m \u001b[38;5;28;01mimport\u001b[39;00m Prompt\n\u001b[1;32m----> 3\u001b[0m \u001b[38;5;28;01mfrom\u001b[39;00m \u001b[38;5;21;01mconfigs\u001b[39;00m \u001b[38;5;28;01mimport\u001b[39;00m LLM_CONFIGS\n\u001b[0;32m      4\u001b[0m genai\u001b[38;5;241m.\u001b[39mconfigure(api_key\u001b[38;5;241m=\u001b[39mLLM_CONFIGS[\u001b[38;5;124m'\u001b[39m\u001b[38;5;124mGEMINI_API_KEY\u001b[39m\u001b[38;5;124m'\u001b[39m])\n\u001b[0;32m      5\u001b[0m \u001b[38;5;66;03m# class LLM:\u001b[39;00m\n\u001b[0;32m      6\u001b[0m \u001b[38;5;66;03m#     def __init__(self, api_key, model_name='gemini-1.5-flash-latest'):\u001b[39;00m\n\u001b[0;32m      7\u001b[0m \u001b[38;5;66;03m#         \"\"\"\u001b[39;00m\n\u001b[1;32m   (...)\u001b[0m\n\u001b[0;32m     38\u001b[0m \u001b[38;5;66;03m#             prompt.add_history(query, response)\u001b[39;00m\n\u001b[0;32m     39\u001b[0m \u001b[38;5;66;03m#             return response\u001b[39;00m\n",
      "\u001b[1;31mModuleNotFoundError\u001b[0m: No module named 'configs'"
     ]
    }
   ],
   "source": [
    "import google.generativeai as genai\n",
    "from src.llm.data import Prompt\n",
    "from src.llm.engine import LLM\n",
    "from src.llm.configs import LLM_CONFIGS\n",
    "genai.configure(api_key=LLM_CONFIGS['GEMINI_API_KEY'])"
   ]
  },
  {
   "cell_type": "code",
   "execution_count": 10,
   "metadata": {},
   "outputs": [
    {
     "data": {
      "text/plain": [
       "User(uuid=UUID('af98dc52-db7b-4583-bb7b-06b67e81e1f8'), id=4, created_at=datetime.datetime(2024, 6, 1, 17, 41, 41, 969325, tzinfo=datetime.timezone.utc), updated_at=datetime.datetime(2024, 6, 1, 17, 41, 41, 969325, tzinfo=datetime.timezone.utc), deleted_at=None, user_id='user1223', email='user@example.com', first_name='Jane', last_name='Smith', metadata={'foo': 'bar'})"
      ]
     },
     "execution_count": 10,
     "metadata": {},
     "output_type": "execute_result"
    }
   ],
   "source": [
    "from user import get_user\n",
    "get_user('user1223')"
   ]
  },
  {
   "cell_type": "code",
   "execution_count": null,
   "metadata": {},
   "outputs": [],
   "source": [
    "client.user.add_session"
   ]
  },
  {
   "cell_type": "code",
   "execution_count": 33,
   "metadata": {},
   "outputs": [],
   "source": [
    "import asyncio\n",
    "import logging\n",
    "from zep_python import ZepClient, Session\n",
    "from pydantic import BaseModel, EmailStr\n",
    "from typing import Optional, Dict, List\n",
    "import uuid\n",
    "\n",
    "# Configure logging\n",
    "logging.basicConfig(level=logging.INFO)\n",
    "logger = logging.getLogger(__name__)\n",
    "\n",
    "API_URL = \"http://localhost:8000\"\n",
    "\n",
    "class UserRequest(BaseModel):\n",
    "    user_id: str\n",
    "    email: EmailStr\n",
    "    first_name: str\n",
    "    last_name: str\n",
    "    metadata: Optional[Dict] = None\n",
    "\n",
    "class SessionRequest(BaseModel):\n",
    "    user_id: str\n",
    "    session_data: Dict\n",
    "\n",
    "\n",
    "def get_client() -> ZepClient:\n",
    "    return ZepClient(API_URL)\n",
    "\n",
    "# User Management\n",
    "async def create_user(request: UserRequest) -> None:\n",
    "    async with get_client() as client:\n",
    "        try:\n",
    "            await client.user.aadd(request)\n",
    "            logger.info(\"User created successfully.\")\n",
    "        except Exception as e:\n",
    "            logger.error(f\"Error creating user: {e}\")\n",
    "\n",
    "async def get_user(user_id: str) -> Optional[Dict]:\n",
    "    async with get_client() as client:\n",
    "        try:\n",
    "            return await client.user.aget(user_id)\n",
    "        except Exception as e:\n",
    "            logger.error(f\"Error fetching user: {e}\")\n",
    "            return None\n",
    "\n",
    "async def get_all_users() -> Optional[List[Dict]]:\n",
    "    async with get_client() as client:\n",
    "        try:\n",
    "            return await client.user.alist()\n",
    "        except Exception as e:\n",
    "            logger.error(f\"Error fetching users: {e}\")\n",
    "            return None\n",
    "\n",
    "async def update_user(request: UserRequest) -> None:\n",
    "    async with get_client() as client:\n",
    "        try:\n",
    "            await client.user.aupdate(request)\n",
    "            logger.info(\"User updated successfully.\")\n",
    "        except Exception as e:\n",
    "            logger.error(f\"Error updating user: {e}\")\n",
    "\n",
    "async def delete_user(user_id: str) -> None:\n",
    "    async with get_client() as client:\n",
    "        try:\n",
    "            await client.user.adelete(user_id)\n",
    "            logger.info(\"User deleted successfully.\")\n",
    "        except Exception as e:\n",
    "            logger.error(f\"Error deleting user: {e}\")\n",
    "\n",
    "# Session Management\n",
    "async def add_session(user_id: str, metadata: dict = {}) -> None:\n",
    "    async with get_client() as client:\n",
    "        session_id = uuid.uuid4().hex\n",
    "        session = Session(\n",
    "            session_id=session_id,\n",
    "            user_id=user_id,\n",
    "            metadata=metadata\n",
    "        )\n",
    "        try:\n",
    "            await client.memory.aadd_session(session)\n",
    "            logger.info(f\"Session added successfully with ID: {session_id}\")\n",
    "        except Exception as e:\n",
    "            logger.error(f\"Error adding session: {e}\")\n",
    "\n",
    "async def get_session(session_id: str) -> Optional[Dict]:\n",
    "    async with get_client() as client:\n",
    "        try:\n",
    "            return await client.memory.aget_session(session_id)\n",
    "        except Exception as e:\n",
    "            logger.error(f\"Error fetching session: {e}\")\n",
    "            return None\n",
    "\n",
    "async def delete_session(session_id: str) -> Optional[Dict]:\n",
    "    async with get_client() as client:\n",
    "        try:\n",
    "            return await client.memory.adelete_memory(session_id)\n",
    "        except Exception as e:\n",
    "            logger.error(f\"Error deleting session: {e}\")\n",
    "            return None\n",
    "\n",
    "async def get_all_session_messages(session_id: str) -> None:\n",
    "    async with get_client() as client:\n",
    "        try:\n",
    "            messages = await client.message.aget_session_messages(session_id)\n",
    "            for message in messages:\n",
    "                logger.info(message.to_dict())\n",
    "        except Exception as e:\n",
    "            logger.error(f\"Error fetching session messages: {e}\")\n",
    "            \n",
    "            \n",
    "# Memory Management\n",
    "async def get_memory(session_id: str, lastin: int =5) -> Optional[Dict]:\n",
    "    async with get_client() as client:\n",
    "        try:\n",
    "            return await client.memory.aget_memory(session_id)\n",
    "        except Exception as e:\n",
    "            logger.error(f\"Error getting memory: {e}\")\n",
    "            return None\n",
    "async def get_memory(session_id: str, memory_messages) -> Optional[Dict]:\n",
    "    async with get_client() as client:\n",
    "        try:\n",
    "            return await client.memory.aadd_memory(session_id)\n",
    "        except Exception as e:\n",
    "            logger.error(f\"Error getting memory: {e}\")\n",
    "            return None\n"
   ]
  },
  {
   "cell_type": "code",
   "execution_count": 34,
   "metadata": {},
   "outputs": [
    {
     "name": "stderr",
     "output_type": "stream",
     "text": [
      "INFO:httpx:HTTP Request: GET http://localhost:8000/healthz \"HTTP/1.1 200 OK\"\n",
      "INFO:httpx:HTTP Request: POST http://localhost:8000/api/v1/user \"HTTP/1.1 201 Created\"\n",
      "INFO:__main__:User created successfully.\n",
      "INFO:httpx:HTTP Request: GET http://localhost:8000/healthz \"HTTP/1.1 200 OK\"\n",
      "INFO:httpx:HTTP Request: GET http://localhost:8000/api/v1/user/user123 \"HTTP/1.1 200 OK\"\n"
     ]
    },
    {
     "name": "stdout",
     "output_type": "stream",
     "text": [
      "Retrieved User: uuid=UUID('e0fad46a-7ea7-463e-8317-f64445c97257') id=21 created_at=datetime.datetime(2024, 6, 1, 21, 27, 13, 263125, tzinfo=datetime.timezone.utc) updated_at=datetime.datetime(2024, 6, 1, 21, 27, 13, 263125, tzinfo=datetime.timezone.utc) deleted_at=None user_id='user123' email='user123@example.com' first_name='John' last_name='Doe' metadata={'key': 'value'}\n"
     ]
    },
    {
     "name": "stderr",
     "output_type": "stream",
     "text": [
      "INFO:httpx:HTTP Request: GET http://localhost:8000/healthz \"HTTP/1.1 200 OK\"\n",
      "INFO:httpx:HTTP Request: PATCH http://localhost:8000/api/v1/user/user123 \"HTTP/1.1 200 OK\"\n",
      "INFO:__main__:User updated successfully.\n",
      "INFO:httpx:HTTP Request: GET http://localhost:8000/healthz \"HTTP/1.1 200 OK\"\n",
      "INFO:httpx:HTTP Request: GET http://localhost:8000/api/v1/user?limit=&cursor= \"HTTP/1.1 200 OK\"\n"
     ]
    },
    {
     "name": "stdout",
     "output_type": "stream",
     "text": [
      "All Users: [User(uuid=UUID('af98dc52-db7b-4583-bb7b-06b67e81e1f8'), id=4, created_at=datetime.datetime(2024, 6, 1, 17, 41, 41, 969325, tzinfo=datetime.timezone.utc), updated_at=datetime.datetime(2024, 6, 1, 17, 41, 41, 969325, tzinfo=datetime.timezone.utc), deleted_at=None, user_id='user1223', email='user@example.com', first_name='Jane', last_name='Smith', metadata={'foo': 'bar'}), User(uuid=UUID('e0fad46a-7ea7-463e-8317-f64445c97257'), id=21, created_at=datetime.datetime(2024, 6, 1, 21, 27, 13, 263125, tzinfo=datetime.timezone.utc), updated_at=datetime.datetime(2024, 6, 1, 21, 27, 16, 588687, tzinfo=datetime.timezone.utc), deleted_at=None, user_id='user123', email='user123@example.com', first_name='Jane', last_name='Doe', metadata={'key': 'value'})]\n"
     ]
    },
    {
     "name": "stderr",
     "output_type": "stream",
     "text": [
      "INFO:httpx:HTTP Request: GET http://localhost:8000/healthz \"HTTP/1.1 200 OK\"\n",
      "INFO:httpx:HTTP Request: POST http://localhost:8000/api/v1/sessions \"HTTP/1.1 201 Created\"\n",
      "INFO:__main__:Session added successfully with ID: ad3b3b46c4ad458bb666d86b63578523\n",
      "INFO:httpx:HTTP Request: GET http://localhost:8000/healthz \"HTTP/1.1 200 OK\"\n",
      "INFO:httpx:HTTP Request: GET http://localhost:8000/api/v1/sessions/fd16b1dee76a4b7785cc1b5b50eeff18 \"HTTP/1.1 404 Not Found\"\n",
      "ERROR:__main__:Error fetching session: No session found for session fd16b1dee76a4b7785cc1b5b50eeff18: None\n"
     ]
    },
    {
     "name": "stdout",
     "output_type": "stream",
     "text": [
      "Retrieved Session: None\n"
     ]
    },
    {
     "name": "stderr",
     "output_type": "stream",
     "text": [
      "INFO:httpx:HTTP Request: GET http://localhost:8000/healthz \"HTTP/1.1 200 OK\"\n",
      "INFO:httpx:HTTP Request: DELETE http://localhost:8000/api/v1/sessions/user123/memory \"HTTP/1.1 404 Not Found\"\n",
      "ERROR:__main__:Error deleting session: No query results found: None\n",
      "INFO:httpx:HTTP Request: GET http://localhost:8000/healthz \"HTTP/1.1 200 OK\"\n",
      "INFO:httpx:HTTP Request: DELETE http://localhost:8000/api/v1/user/user123 \"HTTP/1.1 200 OK\"\n",
      "INFO:__main__:User deleted successfully.\n"
     ]
    }
   ],
   "source": [
    "user_request = UserRequest(\n",
    "    user_id=\"user123\",\n",
    "    email=\"user123@example.com\",\n",
    "    first_name=\"John\",\n",
    "    last_name=\"Doe\",\n",
    "    metadata={\"key\": \"value\"}\n",
    ")\n",
    "await create_user(user_request)\n",
    "\n",
    "# Retrieve the created user\n",
    "user = await get_user(\"user123\")\n",
    "print(\"Retrieved User:\", user)\n",
    "\n",
    "# Update the user\n",
    "user_request.first_name = \"Jane\"\n",
    "await update_user(user_request)\n",
    "\n",
    "# Retrieve all users\n",
    "users = await get_all_users()\n",
    "print(\"All Users:\", users)\n",
    "\n",
    "# Add a session for the user\n",
    "await add_session(user_id=\"user123\", metadata={\"session_key\": \"session_value\"})\n",
    "\n",
    "# Retrieve the session\n",
    "session = await get_session(\"fd16b1dee76a4b7785cc1b5b50eeff18\")\n",
    "print(\"Retrieved Session:\", session)\n",
    "\n",
    "# Delete the session\n",
    "await delete_session(\"user123\")\n",
    "\n",
    "# Delete the user\n",
    "await delete_user(\"user123\")"
   ]
  },
  {
   "cell_type": "code",
   "execution_count": 36,
   "metadata": {},
   "outputs": [
    {
     "name": "stderr",
     "output_type": "stream",
     "text": [
      "INFO:httpx:HTTP Request: GET http://localhost:8000/api/v1/user?limit=&cursor= \"HTTP/1.1 200 OK\"\n"
     ]
    },
    {
     "data": {
      "text/plain": [
       "[User(uuid=UUID('af98dc52-db7b-4583-bb7b-06b67e81e1f8'), id=4, created_at=datetime.datetime(2024, 6, 1, 17, 41, 41, 969325, tzinfo=datetime.timezone.utc), updated_at=datetime.datetime(2024, 6, 1, 17, 41, 41, 969325, tzinfo=datetime.timezone.utc), deleted_at=None, user_id='user1223', email='user@example.com', first_name='Jane', last_name='Smith', metadata={'foo': 'bar'})]"
      ]
     },
     "execution_count": 36,
     "metadata": {},
     "output_type": "execute_result"
    }
   ],
   "source": [
    "client.user.list()"
   ]
  },
  {
   "cell_type": "code",
   "execution_count": 38,
   "metadata": {},
   "outputs": [
    {
     "name": "stderr",
     "output_type": "stream",
     "text": [
      "INFO:httpx:HTTP Request: GET http://localhost:8000/api/v1/sessions/52e5cdcb423746e2b5f95c4f5e6abb9b/memory \"HTTP/1.1 200 OK\"\n"
     ]
    },
    {
     "data": {
      "text/plain": [
       "Memory(messages=[], metadata=None, summary=Summary(uuid='00000000-0000-0000-0000-000000000000', created_at='0001-01-01T00:00:00Z', content='', recent_message_uuid='00000000-0000-0000-0000-000000000000', token_count=0), uuid=None, created_at=None, token_count=None)"
      ]
     },
     "execution_count": 38,
     "metadata": {},
     "output_type": "execute_result"
    }
   ],
   "source": [
    "client.memory.get_memory('52e5cdcb423746e2b5f95c4f5e6abb9b')"
   ]
  },
  {
   "cell_type": "code",
   "execution_count": null,
   "metadata": {},
   "outputs": [],
   "source": [
    "client.memory.get_memory()"
   ]
  },
  {
   "cell_type": "code",
   "execution_count": 42,
   "metadata": {},
   "outputs": [
    {
     "ename": "AttributeError",
     "evalue": "type object 'Memory' has no attribute 'summary'",
     "output_type": "error",
     "traceback": [
      "\u001b[1;31m---------------------------------------------------------------------------\u001b[0m",
      "\u001b[1;31mAttributeError\u001b[0m                            Traceback (most recent call last)",
      "Cell \u001b[1;32mIn[42], line 2\u001b[0m\n\u001b[0;32m      1\u001b[0m \u001b[38;5;28;01mfrom\u001b[39;00m \u001b[38;5;21;01mzep_python\u001b[39;00m \u001b[38;5;28;01mimport\u001b[39;00m Memory\n\u001b[1;32m----> 2\u001b[0m \u001b[43mMemory\u001b[49m\u001b[38;5;241;43m.\u001b[39;49m\u001b[43msummary\u001b[49m\n",
      "\u001b[1;31mAttributeError\u001b[0m: type object 'Memory' has no attribute 'summary'"
     ]
    }
   ],
   "source": []
  },
  {
   "cell_type": "code",
   "execution_count": null,
   "metadata": {},
   "outputs": [],
   "source": []
  }
 ],
 "metadata": {
  "kernelspec": {
   "display_name": "SAMA",
   "language": "python",
   "name": "python3"
  },
  "language_info": {
   "codemirror_mode": {
    "name": "ipython",
    "version": 3
   },
   "file_extension": ".py",
   "mimetype": "text/x-python",
   "name": "python",
   "nbconvert_exporter": "python",
   "pygments_lexer": "ipython3",
   "version": "3.10.13"
  }
 },
 "nbformat": 4,
 "nbformat_minor": 2
}
